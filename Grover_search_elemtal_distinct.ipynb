{
 "cells": [
  {
   "cell_type": "code",
   "execution_count": 173,
   "metadata": {},
   "outputs": [],
   "source": [
    "from qiskit import QuantumCircuit, Aer, transpile, assemble\n",
    "from qiskit.visualization import plot_histogram\n",
    "from qiskit.circuit.library import GroverOperator\n",
    "from qiskit.algorithms import Grover, AmplificationProblem\n",
    "from qiskit.circuit.library import PhaseOracle\n",
    "import numpy as np\n",
    "import math"
   ]
  },
  {
   "cell_type": "code",
   "execution_count": 174,
   "metadata": {},
   "outputs": [],
   "source": [
    "N=10\n"
   ]
  },
  {
   "cell_type": "code",
   "execution_count": 175,
   "metadata": {},
   "outputs": [
    {
     "name": "stdout",
     "output_type": "stream",
     "text": [
      "[2 9 7 1 7 5 9 4 6 4]\n"
     ]
    }
   ],
   "source": [
    "\n",
    "array=np.random.randint(N, size=10)\n",
    "N=len(array)\n",
    "print(array)"
   ]
  },
  {
   "cell_type": "code",
   "execution_count": 176,
   "metadata": {},
   "outputs": [],
   "source": [
    "# shuffle the array \n",
    "np.random.shuffle(array)"
   ]
  },
  {
   "cell_type": "code",
   "execution_count": 177,
   "metadata": {},
   "outputs": [
    {
     "data": {
      "text/plain": [
       "array([6, 7, 4])"
      ]
     },
     "execution_count": 177,
     "metadata": {},
     "output_type": "execute_result"
    }
   ],
   "source": [
    "RootN=np.sqrt(N)\n",
    "\n",
    "# choose first rootN elements\n",
    "marked = array[:int(RootN)]\n",
    "marked"
   ]
  },
  {
   "cell_type": "code",
   "execution_count": 179,
   "metadata": {},
   "outputs": [],
   "source": [
    "if(len(set(marked))!=len(marked)):\n",
    "    print(\"Error: Marked elements are not unique, found duplicates\")"
   ]
  },
  {
   "cell_type": "code",
   "execution_count": 180,
   "metadata": {},
   "outputs": [
    {
     "data": {
      "text/plain": [
       "array([1, 5, 4, 9, 9, 2, 7])"
      ]
     },
     "execution_count": 180,
     "metadata": {},
     "output_type": "execute_result"
    }
   ],
   "source": [
    "remaining = array[int(RootN):]\n",
    "remaining\n"
   ]
  },
  {
   "cell_type": "code",
   "execution_count": 181,
   "metadata": {},
   "outputs": [
    {
     "data": {
      "text/plain": [
       "[6, 2]"
      ]
     },
     "execution_count": 181,
     "metadata": {},
     "output_type": "execute_result"
    }
   ],
   "source": [
    "solution_idx=[]\n",
    "for i in marked:\n",
    "    for j in range(len(remaining)):\n",
    "        if i==remaining[j]:\n",
    "            solution_idx.append(j)\n",
    "\n",
    "solution_idx"
   ]
  },
  {
   "cell_type": "code",
   "execution_count": 182,
   "metadata": {},
   "outputs": [
    {
     "data": {
      "text/plain": [
       "3"
      ]
     },
     "execution_count": 182,
     "metadata": {},
     "output_type": "execute_result"
    }
   ],
   "source": [
    "# remaining=[1,2,3,4]\n",
    "# solution_idx=[2]\n",
    "T=len(remaining)\n",
    "# log of T\n",
    "logT=math.ceil(np.log2(T))\n",
    "logT"
   ]
  },
  {
   "cell_type": "code",
   "execution_count": 194,
   "metadata": {},
   "outputs": [],
   "source": [
    "def grover_iterator(oracle,N):\n",
    "    qc=QuantumCircuit(N)\n",
    "    qc.append(oracle,range(N))\n",
    "    # qc.barrier()\n",
    "    qc.h(range(N))\n",
    "    qc.x(range(N))\n",
    "    qc.h(N-1)\n",
    "    qc.mcx(list(range(N-1)),N-1)\n",
    "    qc.h(N-1)\n",
    "    qc.barrier()\n",
    "    qc.x(range(N))\n",
    "    qc.h(range(N))\n",
    "    qc.barrier()\n",
    "    return qc\n",
    "\n"
   ]
  },
  {
   "cell_type": "code",
   "execution_count": 184,
   "metadata": {},
   "outputs": [],
   "source": [
    "def A(n):\n",
    "    qc = QuantumCircuit(n)\n",
    "    for qubit in range(n):\n",
    "        qc.h(qubit)\n",
    "    qc.barrier()\n",
    "    return qc"
   ]
  },
  {
   "cell_type": "code",
   "execution_count": 213,
   "metadata": {},
   "outputs": [
    {
     "name": "stdout",
     "output_type": "stream",
     "text": [
      "oracle circuit:\n",
      "      ░                                ░ \n",
      "q_0: ─░────────■───────────────────────░─\n",
      "      ░        │                       ░ \n",
      "q_1: ─░────────■──────────────■────────░─\n",
      "      ░        │              │        ░ \n",
      "q_2: ─░────────┼──────────────┼────────░─\n",
      "      ░ ┌───┐┌─┴─┐┌───┐┌───┐┌─┴─┐┌───┐ ░ \n",
      "q_3: ─░─┤ H ├┤ X ├┤ H ├┤ H ├┤ X ├┤ H ├─░─\n",
      "      ░ └───┘└───┘└───┘└───┘└───┘└───┘ ░ \n"
     ]
    }
   ],
   "source": [
    "# Create oracle for the Grover's algorithm\n",
    "def oracle(n, solution_indices):\n",
    "    oracle = QuantumCircuit(n)\n",
    "    # print(n)\n",
    "    oracle.barrier()\n",
    "    for idx in solution_indices:\n",
    "        # cnot on binary representation of idx\n",
    "        control_list=[]\n",
    "        cl=[]\n",
    "        target=n-1\n",
    "        ele=idx\n",
    "        while(ele>0):\n",
    "            cl.append(ele%2)\n",
    "            ele=ele//2\n",
    "        # cl.reverse()\n",
    "        # print(cl)\n",
    "        \n",
    "        for i in range(len(cl)):\n",
    "            if(cl[i]==1):\n",
    "                control_list.append(i)\n",
    "        \n",
    "        control_list=[target-1-i for i in control_list]\n",
    "        # print(idx,\"control: \",control_list)\n",
    "        \n",
    "        oracle.h(target)\n",
    "        oracle.mcx(control_list,target) \n",
    "        oracle.h(target)\n",
    "\n",
    "    oracle.barrier()\n",
    "    print(\"oracle circuit:\")\n",
    "    print(oracle)\n",
    "    return oracle\n",
    "\n",
    "oracle_circuit = oracle(logT+1, solution_idx)\n",
    "grover=grover_iterator(oracle_circuit,logT+1)\n",
    "\n"
   ]
  },
  {
   "cell_type": "code",
   "execution_count": 214,
   "metadata": {},
   "outputs": [
    {
     "data": {
      "text/html": [
       "<pre style=\"word-wrap: normal;white-space: pre;background: #fff0;line-height: 1.1;font-family: &quot;Courier New&quot;,Courier,monospace\">     ┌──────────────┐┌───┐┌───┐                ░ ┌───┐┌───┐ ░ \n",
       "q_0: ┤0             ├┤ H ├┤ X ├───────■────────░─┤ X ├┤ H ├─░─\n",
       "     │              │├───┤├───┤       │        ░ ├───┤├───┤ ░ \n",
       "q_1: ┤1             ├┤ H ├┤ X ├───────■────────░─┤ X ├┤ H ├─░─\n",
       "     │  circuit-812 │├───┤├───┤       │        ░ ├───┤├───┤ ░ \n",
       "q_2: ┤2             ├┤ H ├┤ X ├───────■────────░─┤ X ├┤ H ├─░─\n",
       "     │              │├───┤├───┤┌───┐┌─┴─┐┌───┐ ░ ├───┤├───┤ ░ \n",
       "q_3: ┤3             ├┤ H ├┤ X ├┤ H ├┤ X ├┤ H ├─░─┤ X ├┤ H ├─░─\n",
       "     └──────────────┘└───┘└───┘└───┘└───┘└───┘ ░ └───┘└───┘ ░ </pre>"
      ],
      "text/plain": [
       "     ┌──────────────┐┌───┐┌───┐                ░ ┌───┐┌───┐ ░ \n",
       "q_0: ┤0             ├┤ H ├┤ X ├───────■────────░─┤ X ├┤ H ├─░─\n",
       "     │              │├───┤├───┤       │        ░ ├───┤├───┤ ░ \n",
       "q_1: ┤1             ├┤ H ├┤ X ├───────■────────░─┤ X ├┤ H ├─░─\n",
       "     │  circuit-812 │├───┤├───┤       │        ░ ├───┤├───┤ ░ \n",
       "q_2: ┤2             ├┤ H ├┤ X ├───────■────────░─┤ X ├┤ H ├─░─\n",
       "     │              │├───┤├───┤┌───┐┌─┴─┐┌───┐ ░ ├───┤├───┤ ░ \n",
       "q_3: ┤3             ├┤ H ├┤ X ├┤ H ├┤ X ├┤ H ├─░─┤ X ├┤ H ├─░─\n",
       "     └──────────────┘└───┘└───┘└───┘└───┘└───┘ ░ └───┘└───┘ ░ "
      ]
     },
     "execution_count": 214,
     "metadata": {},
     "output_type": "execute_result"
    }
   ],
   "source": [
    "grover.draw()"
   ]
  },
  {
   "cell_type": "code",
   "execution_count": 215,
   "metadata": {},
   "outputs": [
    {
     "data": {
      "text/html": [
       "<pre style=\"word-wrap: normal;white-space: pre;background: #fff0;line-height: 1.1;font-family: &quot;Courier New&quot;,Courier,monospace\">     ┌──────────────┐┌──────────────┐┌─┐      \n",
       "q_0: ┤0             ├┤0             ├┤M├──────\n",
       "     │              ││              │└╥┘┌─┐   \n",
       "q_1: ┤1             ├┤1             ├─╫─┤M├───\n",
       "     │  circuit-817 ││  circuit-813 │ ║ └╥┘┌─┐\n",
       "q_2: ┤2             ├┤2             ├─╫──╫─┤M├\n",
       "     │              ││              │ ║  ║ └╥┘\n",
       "q_3: ┤3             ├┤3             ├─╫──╫──╫─\n",
       "     └──────────────┘└──────────────┘ ║  ║  ║ \n",
       "c: 3/═════════════════════════════════╩══╩══╩═\n",
       "                                      0  1  2 </pre>"
      ],
      "text/plain": [
       "     ┌──────────────┐┌──────────────┐┌─┐      \n",
       "q_0: ┤0             ├┤0             ├┤M├──────\n",
       "     │              ││              │└╥┘┌─┐   \n",
       "q_1: ┤1             ├┤1             ├─╫─┤M├───\n",
       "     │  circuit-817 ││  circuit-813 │ ║ └╥┘┌─┐\n",
       "q_2: ┤2             ├┤2             ├─╫──╫─┤M├\n",
       "     │              ││              │ ║  ║ └╥┘\n",
       "q_3: ┤3             ├┤3             ├─╫──╫──╫─\n",
       "     └──────────────┘└──────────────┘ ║  ║  ║ \n",
       "c: 3/═════════════════════════════════╩══╩══╩═\n",
       "                                      0  1  2 "
      ]
     },
     "execution_count": 215,
     "metadata": {},
     "output_type": "execute_result"
    }
   ],
   "source": [
    "# T=logT\n",
    "circuit=QuantumCircuit(logT+1, logT)\n",
    "A_circuit= A(logT+1)\n",
    "circuit.append(A_circuit, range(logT+1))\n",
    "\n",
    "circuit.append(grover, range(logT+1))\n",
    "# measurement\n",
    "circuit.measure(range(logT), range(logT))\n",
    "circuit.draw()\n"
   ]
  },
  {
   "cell_type": "code",
   "execution_count": 216,
   "metadata": {},
   "outputs": [
    {
     "name": "stderr",
     "output_type": "stream",
     "text": [
      "C:\\Users\\acer\\AppData\\Local\\Temp\\ipykernel_16908\\1170834693.py:5: DeprecationWarning: Using a qobj for run() is deprecated as of qiskit-aer 0.9.0 and will be removed no sooner than 3 months from that release date. Transpiled circuits should now be passed directly using `backend.run(circuits, **run_options).\n",
      "  result = qasm_simulator.run(qobj).result()\n"
     ]
    },
    {
     "data": {
      "image/png": "[encoded data removed]",
      "text/plain": [
       "<Figure size 700x500 with 1 Axes>"
      ]
     },
     "execution_count": 216,
     "metadata": {},
     "output_type": "execute_result"
    }
   ],
   "source": [
    "\n",
    "# run the circuit\n",
    "qasm_simulator = Aer.get_backend(\"qasm_simulator\")\n",
    "transpiled_circuit = transpile(circuit, qasm_simulator)\n",
    "qobj = assemble(transpiled_circuit)\n",
    "result = qasm_simulator.run(qobj).result()\n",
    "counts = result.get_counts()\n",
    "plot_histogram(counts)"
   ]
  },
  {
   "cell_type": "code",
   "execution_count": 217,
   "metadata": {},
   "outputs": [
    {
     "name": "stderr",
     "output_type": "stream",
     "text": [
      "C:\\Users\\acer\\AppData\\Local\\Temp\\ipykernel_16908\\1262288091.py:9: DeprecationWarning: The method ``qiskit.circuit.quantumcircuit.QuantumCircuit.mct()`` is deprecated as of qiskit 0.45.0. It will be removed no earlier than 3 months after the release date. Use QuantumCircuit.mcx as direct replacement.\n",
      "  qc.mct([0,1],2)\n"
     ]
    },
    {
     "data": {
      "text/html": [
       "<pre style=\"word-wrap: normal;white-space: pre;background: #fff0;line-height: 1.1;font-family: &quot;Courier New&quot;,Courier,monospace\">        ┌───┐┌───┐┌───┐               ┌───┐┌───┐      ░ ┌─┐      \n",
       "   q_0: ┤ H ├┤ H ├┤ X ├────────────■──┤ X ├┤ H ├──────░─┤M├──────\n",
       "        ├───┤└───┘├───┤┌───┐       │  ├───┤├───┤      ░ └╥┘┌─┐   \n",
       "   q_1: ┤ H ├──■──┤ H ├┤ X ├───────■──┤ X ├┤ H ├──────░──╫─┤M├───\n",
       "        ├───┤  │  ├───┤├───┤┌───┐┌─┴─┐├───┤├───┤┌───┐ ░  ║ └╥┘┌─┐\n",
       "   q_2: ┤ H ├──■──┤ H ├┤ X ├┤ H ├┤ X ├┤ H ├┤ X ├┤ H ├─░──╫──╫─┤M├\n",
       "        └───┘     └───┘└───┘└───┘└───┘└───┘└───┘└───┘ ░  ║  ║ └╥┘\n",
       "meas: 3/═════════════════════════════════════════════════╩══╩══╩═\n",
       "                                                         0  1  2 </pre>"
      ],
      "text/plain": [
       "        ┌───┐┌───┐┌───┐               ┌───┐┌───┐      ░ ┌─┐      \n",
       "   q_0: ┤ H ├┤ H ├┤ X ├────────────■──┤ X ├┤ H ├──────░─┤M├──────\n",
       "        ├───┤└───┘├───┤┌───┐       │  ├───┤├───┤      ░ └╥┘┌─┐   \n",
       "   q_1: ┤ H ├──■──┤ H ├┤ X ├───────■──┤ X ├┤ H ├──────░──╫─┤M├───\n",
       "        ├───┤  │  ├───┤├───┤┌───┐┌─┴─┐├───┤├───┤┌───┐ ░  ║ └╥┘┌─┐\n",
       "   q_2: ┤ H ├──■──┤ H ├┤ X ├┤ H ├┤ X ├┤ H ├┤ X ├┤ H ├─░──╫──╫─┤M├\n",
       "        └───┘     └───┘└───┘└───┘└───┘└───┘└───┘└───┘ ░  ║  ║ └╥┘\n",
       "meas: 3/═════════════════════════════════════════════════╩══╩══╩═\n",
       "                                                         0  1  2 "
      ]
     },
     "execution_count": 217,
     "metadata": {},
     "output_type": "execute_result"
    }
   ],
   "source": [
    "qc=QuantumCircuit(3)\n",
    "\n",
    "qc.h(range(3))\n",
    "# qc.cz(0,2)\n",
    "qc.cz(1,2)\n",
    "qc.h(range(3))\n",
    "qc.x(range(3))\n",
    "qc.h(2)\n",
    "qc.mct([0,1],2)\n",
    "qc.h(2)\n",
    "qc.x(range(3))\n",
    "qc.h(range(3))\n",
    "\n",
    "qc.measure_all()\n",
    "\n",
    "qc.draw()\n"
   ]
  },
  {
   "cell_type": "code",
   "execution_count": 218,
   "metadata": {},
   "outputs": [
    {
     "name": "stderr",
     "output_type": "stream",
     "text": [
      "C:\\Users\\acer\\AppData\\Local\\Temp\\ipykernel_16908\\3649915204.py:5: DeprecationWarning: Using a qobj for run() is deprecated as of qiskit-aer 0.9.0 and will be removed no sooner than 3 months from that release date. Transpiled circuits should now be passed directly using `backend.run(circuits, **run_options).\n",
      "  result = qasm_simulator.run(qobj).result()\n"
     ]
    },
    {
     "data": {
      "image/png": "[encoded data removed]",
      "text/plain": [
       "<Figure size 700x500 with 1 Axes>"
      ]
     },
     "execution_count": 218,
     "metadata": {},
     "output_type": "execute_result"
    }
   ],
   "source": [
    "#  run\n",
    "qasm_simulator = Aer.get_backend(\"qasm_simulator\")\n",
    "transpiled_circuit = transpile(qc, qasm_simulator)\n",
    "qobj = assemble(transpiled_circuit)\n",
    "result = qasm_simulator.run(qobj).result()\n",
    "counts = result.get_counts()\n",
    "plot_histogram(counts)"
   ]
  }
 ],
 "metadata": {
  "kernelspec": {
   "display_name": "Python 3",
   "language": "python",
   "name": "python3"
  },
  "language_info": {
   "codemirror_mode": {
    "name": "ipython",
    "version": 3
   },
   "file_extension": ".py",
   "mimetype": "text/x-python",
   "name": "python",
   "nbconvert_exporter": "python",
   "pygments_lexer": "ipython3",
   "version": "3.11.0"
  }
 },
 "nbformat": 4,
 "nbformat_minor": 2
}
