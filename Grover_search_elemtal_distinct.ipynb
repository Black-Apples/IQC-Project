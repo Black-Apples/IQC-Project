{
 "cells": [
  {
   "cell_type": "code",
   "execution_count": 76,
   "metadata": {},
   "outputs": [],
   "source": [
    "from qiskit import QuantumCircuit, Aer, transpile, assemble\n",
    "from qiskit.visualization import plot_histogram\n",
    "from qiskit.circuit.library import GroverOperator\n",
    "from qiskit.algorithms import Grover, AmplificationProblem\n",
    "from qiskit.circuit.library import PhaseOracle\n",
    "import numpy as np\n",
    "import math"
   ]
  },
  {
   "cell_type": "code",
   "execution_count": 77,
   "metadata": {},
   "outputs": [],
   "source": [
    "N=10\n"
   ]
  },
  {
   "cell_type": "code",
   "execution_count": 78,
   "metadata": {},
   "outputs": [
    {
     "name": "stdout",
     "output_type": "stream",
     "text": [
      "[2 2 0 5 5 5 3 0 1 8]\n"
     ]
    }
   ],
   "source": [
    "\n",
    "array=np.random.randint(N, size=10)\n",
    "\n",
    "N=len(array)\n",
    "print(array)"
   ]
  },
  {
   "cell_type": "code",
   "execution_count": 79,
   "metadata": {},
   "outputs": [],
   "source": [
    "# shuffle the array \n",
    "np.random.shuffle(array)\n",
    "array = np.array([5, 7, 2, 2, 1, 3, 9, 9, 0, 7])"
   ]
  },
  {
   "cell_type": "code",
   "execution_count": 80,
   "metadata": {},
   "outputs": [
    {
     "data": {
      "text/plain": [
       "array([5, 7, 2])"
      ]
     },
     "execution_count": 80,
     "metadata": {},
     "output_type": "execute_result"
    }
   ],
   "source": [
    "RootN=np.sqrt(N)\n",
    "\n",
    "# choose first rootN elements\n",
    "marked = array[:int(RootN)]\n",
    "marked"
   ]
  },
  {
   "cell_type": "code",
   "execution_count": 81,
   "metadata": {},
   "outputs": [],
   "source": [
    "if(len(set(marked))!=len(marked)):\n",
    "    print(\"Error: Marked elements are not unique, found duplicates\")"
   ]
  },
  {
   "cell_type": "code",
   "execution_count": 82,
   "metadata": {},
   "outputs": [
    {
     "data": {
      "text/plain": [
       "array([2, 1, 3, 9, 9, 0, 7])"
      ]
     },
     "execution_count": 82,
     "metadata": {},
     "output_type": "execute_result"
    }
   ],
   "source": [
    "remaining = array[int(RootN):]\n",
    "remaining\n"
   ]
  },
  {
   "cell_type": "code",
   "execution_count": 83,
   "metadata": {},
   "outputs": [
    {
     "data": {
      "text/plain": [
       "[6, 0]"
      ]
     },
     "execution_count": 83,
     "metadata": {},
     "output_type": "execute_result"
    }
   ],
   "source": [
    "solution_idx=[]\n",
    "for i in marked:\n",
    "    for j in range(len(remaining)):\n",
    "        if i==remaining[j]:\n",
    "            solution_idx.append(j)\n",
    "\n",
    "solution_idx"
   ]
  },
  {
   "cell_type": "code",
   "execution_count": 84,
   "metadata": {},
   "outputs": [
    {
     "data": {
      "text/plain": [
       "3"
      ]
     },
     "execution_count": 84,
     "metadata": {},
     "output_type": "execute_result"
    }
   ],
   "source": [
    "# remaining=[1,2,3,4]\n",
    "# solution_idx=[2]\n",
    "T=len(remaining)\n",
    "# log of T\n",
    "logT=math.ceil(np.log2(T))\n",
    "logT"
   ]
  },
  {
   "cell_type": "code",
   "execution_count": 85,
   "metadata": {},
   "outputs": [],
   "source": [
    "def grover_iterator(oracle,N):\n",
    "    qc=QuantumCircuit(N)\n",
    "    qc.append(oracle,range(N))\n",
    "    # qc.barrier()\n",
    "    qc.h(range(N))\n",
    "    qc.x(range(N))\n",
    "    qc.h(N-1)\n",
    "    qc.mcx(list(range(N-1)),N-1)\n",
    "    qc.h(N-1)\n",
    "    qc.barrier()\n",
    "    qc.x(range(N))\n",
    "    qc.h(range(N))\n",
    "    qc.barrier()\n",
    "    return qc\n",
    "\n"
   ]
  },
  {
   "cell_type": "code",
   "execution_count": 86,
   "metadata": {},
   "outputs": [],
   "source": [
    "def A(n):\n",
    "    qc = QuantumCircuit(n)\n",
    "    for qubit in range(n):\n",
    "        qc.h(qubit)\n",
    "    qc.barrier()\n",
    "    return qc"
   ]
  },
  {
   "cell_type": "code",
   "execution_count": null,
   "metadata": {},
   "outputs": [],
   "source": []
  },
  {
   "cell_type": "code",
   "execution_count": 112,
   "metadata": {},
   "outputs": [
    {
     "name": "stdout",
     "output_type": "stream",
     "text": [
      "[6, 0]\n",
      "110\n",
      "000\n",
      "Oracle circuit:\n",
      "      ░ ┌───┐     ┌───┐ ░ ┌───┐     ┌───┐ ░  ░ \n",
      "q_0: ─░─┤ X ├──■──┤ X ├─░─┤ X ├──■──┤ X ├─░──░─\n",
      "      ░ └───┘  │  └───┘ ░ ├───┤  │  ├───┤ ░  ░ \n",
      "q_1: ─░────────■────────░─┤ X ├──■──┤ X ├─░──░─\n",
      "      ░        │        ░ ├───┤  │  ├───┤ ░  ░ \n",
      "q_2: ─░────────■────────░─┤ X ├──■──┤ X ├─░──░─\n",
      "      ░ ┌───┐┌─┴─┐┌───┐ ░ ├───┤┌─┴─┐├───┤ ░  ░ \n",
      "q_3: ─░─┤ H ├┤ X ├┤ H ├─░─┤ H ├┤ X ├┤ H ├─░──░─\n",
      "      ░ └───┘└───┘└───┘ ░ └───┘└───┘└───┘ ░  ░ \n"
     ]
    }
   ],
   "source": [
    "# Create oracle for the Grover's algorithm\n",
    "def oracle(n, solution_indices):\n",
    "    oracle = QuantumCircuit(n)\n",
    "\n",
    "    oracle.barrier()\n",
    "    for idx in solution_indices:\n",
    "        # Convert idx to binary representation\n",
    "        binary_rep = bin(idx)[2:].zfill(n-1)\n",
    "        \n",
    "        # print(binary_rep)\n",
    "        # reverse the binary representation\n",
    "        binary_rep = binary_rep[::-1]\n",
    "        # Apply X gates on qubits where binary_rep is '1'\n",
    "        for i, bit in enumerate(binary_rep):\n",
    "            if bit == '0':\n",
    "                oracle.x(i)\n",
    "\n",
    "        # Apply multi-controlled X gate\n",
    "        oracle.h(n-1)\n",
    "        oracle.mcx(list(range(n-1)), n-1)\n",
    "        oracle.h(n-1)\n",
    "        # Unapply X gates\n",
    "        for i, bit in enumerate(binary_rep):\n",
    "            if bit == '0':\n",
    "                oracle.x(i)\n",
    "        \n",
    "        oracle.barrier()\n",
    "\n",
    "    oracle.barrier()\n",
    "    print(\"Oracle circuit:\")\n",
    "    print(oracle)\n",
    "    return oracle\n",
    "\n",
    "# print(solution_idx)\n",
    "oracle_circuit = oracle(logT+1, solution_idx)\n",
    "grover=grover_iterator(oracle_circuit,logT+1)\n",
    "\n"
   ]
  },
  {
   "cell_type": "code",
   "execution_count": 113,
   "metadata": {},
   "outputs": [
    {
     "data": {
      "text/html": [
       "<pre style=\"word-wrap: normal;white-space: pre;background: #fff0;line-height: 1.1;font-family: &quot;Courier New&quot;,Courier,monospace\">     ┌──────────────┐┌───┐┌───┐                ░ ┌───┐┌───┐ ░ \n",
       "q_0: ┤0             ├┤ H ├┤ X ├───────■────────░─┤ X ├┤ H ├─░─\n",
       "     │              │├───┤├───┤       │        ░ ├───┤├───┤ ░ \n",
       "q_1: ┤1             ├┤ H ├┤ X ├───────■────────░─┤ X ├┤ H ├─░─\n",
       "     │  circuit-313 │├───┤├───┤       │        ░ ├───┤├───┤ ░ \n",
       "q_2: ┤2             ├┤ H ├┤ X ├───────■────────░─┤ X ├┤ H ├─░─\n",
       "     │              │├───┤├───┤┌───┐┌─┴─┐┌───┐ ░ ├───┤├───┤ ░ \n",
       "q_3: ┤3             ├┤ H ├┤ X ├┤ H ├┤ X ├┤ H ├─░─┤ X ├┤ H ├─░─\n",
       "     └──────────────┘└───┘└───┘└───┘└───┘└───┘ ░ └───┘└───┘ ░ </pre>"
      ],
      "text/plain": [
       "     ┌──────────────┐┌───┐┌───┐                ░ ┌───┐┌───┐ ░ \n",
       "q_0: ┤0             ├┤ H ├┤ X ├───────■────────░─┤ X ├┤ H ├─░─\n",
       "     │              │├───┤├───┤       │        ░ ├───┤├───┤ ░ \n",
       "q_1: ┤1             ├┤ H ├┤ X ├───────■────────░─┤ X ├┤ H ├─░─\n",
       "     │  circuit-313 │├───┤├───┤       │        ░ ├───┤├───┤ ░ \n",
       "q_2: ┤2             ├┤ H ├┤ X ├───────■────────░─┤ X ├┤ H ├─░─\n",
       "     │              │├───┤├───┤┌───┐┌─┴─┐┌───┐ ░ ├───┤├───┤ ░ \n",
       "q_3: ┤3             ├┤ H ├┤ X ├┤ H ├┤ X ├┤ H ├─░─┤ X ├┤ H ├─░─\n",
       "     └──────────────┘└───┘└───┘└───┘└───┘└───┘ ░ └───┘└───┘ ░ "
      ]
     },
     "execution_count": 113,
     "metadata": {},
     "output_type": "execute_result"
    }
   ],
   "source": [
    "grover.draw()"
   ]
  },
  {
   "cell_type": "code",
   "execution_count": 114,
   "metadata": {},
   "outputs": [
    {
     "data": {
      "text/html": [
       "<pre style=\"word-wrap: normal;white-space: pre;background: #fff0;line-height: 1.1;font-family: &quot;Courier New&quot;,Courier,monospace\">     ┌──────────────┐┌──────────────┐┌──────────────┐┌─┐      \n",
       "q_0: ┤0             ├┤0             ├┤0             ├┤M├──────\n",
       "     │              ││              ││              │└╥┘┌─┐   \n",
       "q_1: ┤1             ├┤1             ├┤1             ├─╫─┤M├───\n",
       "     │  circuit-318 ││  circuit-314 ││  circuit-314 │ ║ └╥┘┌─┐\n",
       "q_2: ┤2             ├┤2             ├┤2             ├─╫──╫─┤M├\n",
       "     │              ││              ││              │ ║  ║ └╥┘\n",
       "q_3: ┤3             ├┤3             ├┤3             ├─╫──╫──╫─\n",
       "     └──────────────┘└──────────────┘└──────────────┘ ║  ║  ║ \n",
       "c: 3/═════════════════════════════════════════════════╩══╩══╩═\n",
       "                                                      0  1  2 </pre>"
      ],
      "text/plain": [
       "     ┌──────────────┐┌──────────────┐┌──────────────┐┌─┐      \n",
       "q_0: ┤0             ├┤0             ├┤0             ├┤M├──────\n",
       "     │              ││              ││              │└╥┘┌─┐   \n",
       "q_1: ┤1             ├┤1             ├┤1             ├─╫─┤M├───\n",
       "     │  circuit-318 ││  circuit-314 ││  circuit-314 │ ║ └╥┘┌─┐\n",
       "q_2: ┤2             ├┤2             ├┤2             ├─╫──╫─┤M├\n",
       "     │              ││              ││              │ ║  ║ └╥┘\n",
       "q_3: ┤3             ├┤3             ├┤3             ├─╫──╫──╫─\n",
       "     └──────────────┘└──────────────┘└──────────────┘ ║  ║  ║ \n",
       "c: 3/═════════════════════════════════════════════════╩══╩══╩═\n",
       "                                                      0  1  2 "
      ]
     },
     "execution_count": 114,
     "metadata": {},
     "output_type": "execute_result"
    }
   ],
   "source": [
    "# T=logT\n",
    "circuit=QuantumCircuit(logT+1, logT)\n",
    "A_circuit= A(logT+1)\n",
    "circuit.append(A_circuit, range(logT+1))\n",
    "\n",
    "for i in range(2):\n",
    "    circuit.append(grover, range(logT+1))\n",
    "\n",
    "# measurement\n",
    "circuit.measure(range(logT), range(logT))\n",
    "circuit.draw()\n"
   ]
  },
  {
   "cell_type": "code",
   "execution_count": 115,
   "metadata": {},
   "outputs": [
    {
     "name": "stderr",
     "output_type": "stream",
     "text": [
      "C:\\Users\\acer\\AppData\\Local\\Temp\\ipykernel_16980\\1170834693.py:5: DeprecationWarning: Using a qobj for run() is deprecated as of qiskit-aer 0.9.0 and will be removed no sooner than 3 months from that release date. Transpiled circuits should now be passed directly using `backend.run(circuits, **run_options).\n",
      "  result = qasm_simulator.run(qobj).result()\n"
     ]
    },
    {
     "data": {
      "image/png": "[encoded data removed]",
      "text/plain": [
       "<Figure size 700x500 with 1 Axes>"
      ]
     },
     "execution_count": 115,
     "metadata": {},
     "output_type": "execute_result"
    }
   ],
   "source": [
    "\n",
    "# run the circuit\n",
    "qasm_simulator = Aer.get_backend(\"qasm_simulator\")\n",
    "transpiled_circuit = transpile(circuit, qasm_simulator)\n",
    "qobj = assemble(transpiled_circuit)\n",
    "result = qasm_simulator.run(qobj).result()\n",
    "counts = result.get_counts()\n",
    "plot_histogram(counts)"
   ]
  },
  {
   "cell_type": "code",
   "execution_count": 116,
   "metadata": {},
   "outputs": [
    {
     "name": "stderr",
     "output_type": "stream",
     "text": [
      "C:\\Users\\acer\\AppData\\Local\\Temp\\ipykernel_16980\\1262288091.py:9: DeprecationWarning: The method ``qiskit.circuit.quantumcircuit.QuantumCircuit.mct()`` is deprecated as of qiskit 0.45.0. It will be removed no earlier than 3 months after the release date. Use QuantumCircuit.mcx as direct replacement.\n",
      "  qc.mct([0,1],2)\n"
     ]
    },
    {
     "data": {
      "text/html": [
       "<pre style=\"word-wrap: normal;white-space: pre;background: #fff0;line-height: 1.1;font-family: &quot;Courier New&quot;,Courier,monospace\">        ┌───┐┌───┐┌───┐               ┌───┐┌───┐      ░ ┌─┐      \n",
       "   q_0: ┤ H ├┤ H ├┤ X ├────────────■──┤ X ├┤ H ├──────░─┤M├──────\n",
       "        ├───┤└───┘├───┤┌───┐       │  ├───┤├───┤      ░ └╥┘┌─┐   \n",
       "   q_1: ┤ H ├──■──┤ H ├┤ X ├───────■──┤ X ├┤ H ├──────░──╫─┤M├───\n",
       "        ├───┤  │  ├───┤├───┤┌───┐┌─┴─┐├───┤├───┤┌───┐ ░  ║ └╥┘┌─┐\n",
       "   q_2: ┤ H ├──■──┤ H ├┤ X ├┤ H ├┤ X ├┤ H ├┤ X ├┤ H ├─░──╫──╫─┤M├\n",
       "        └───┘     └───┘└───┘└───┘└───┘└───┘└───┘└───┘ ░  ║  ║ └╥┘\n",
       "meas: 3/═════════════════════════════════════════════════╩══╩══╩═\n",
       "                                                         0  1  2 </pre>"
      ],
      "text/plain": [
       "        ┌───┐┌───┐┌───┐               ┌───┐┌───┐      ░ ┌─┐      \n",
       "   q_0: ┤ H ├┤ H ├┤ X ├────────────■──┤ X ├┤ H ├──────░─┤M├──────\n",
       "        ├───┤└───┘├───┤┌───┐       │  ├───┤├───┤      ░ └╥┘┌─┐   \n",
       "   q_1: ┤ H ├──■──┤ H ├┤ X ├───────■──┤ X ├┤ H ├──────░──╫─┤M├───\n",
       "        ├───┤  │  ├───┤├───┤┌───┐┌─┴─┐├───┤├───┤┌───┐ ░  ║ └╥┘┌─┐\n",
       "   q_2: ┤ H ├──■──┤ H ├┤ X ├┤ H ├┤ X ├┤ H ├┤ X ├┤ H ├─░──╫──╫─┤M├\n",
       "        └───┘     └───┘└───┘└───┘└───┘└───┘└───┘└───┘ ░  ║  ║ └╥┘\n",
       "meas: 3/═════════════════════════════════════════════════╩══╩══╩═\n",
       "                                                         0  1  2 "
      ]
     },
     "execution_count": 116,
     "metadata": {},
     "output_type": "execute_result"
    }
   ],
   "source": [
    "qc=QuantumCircuit(3)\n",
    "\n",
    "qc.h(range(3))\n",
    "# qc.cz(0,2)\n",
    "qc.cz(1,2)\n",
    "qc.h(range(3))\n",
    "qc.x(range(3))\n",
    "qc.h(2)\n",
    "qc.mct([0,1],2)\n",
    "qc.h(2)\n",
    "qc.x(range(3))\n",
    "qc.h(range(3))\n",
    "\n",
    "qc.measure_all()\n",
    "\n",
    "qc.draw()\n"
   ]
  },
  {
   "cell_type": "code",
   "execution_count": 117,
   "metadata": {},
   "outputs": [
    {
     "name": "stderr",
     "output_type": "stream",
     "text": [
      "C:\\Users\\acer\\AppData\\Local\\Temp\\ipykernel_16980\\3649915204.py:5: DeprecationWarning: Using a qobj for run() is deprecated as of qiskit-aer 0.9.0 and will be removed no sooner than 3 months from that release date. Transpiled circuits should now be passed directly using `backend.run(circuits, **run_options).\n",
      "  result = qasm_simulator.run(qobj).result()\n"
     ]
    },
    {
     "data": {
      "image/png": "[encoded data removed]",
      "text/plain": [
       "<Figure size 700x500 with 1 Axes>"
      ]
     },
     "execution_count": 117,
     "metadata": {},
     "output_type": "execute_result"
    }
   ],
   "source": [
    "#  run\n",
    "qasm_simulator = Aer.get_backend(\"qasm_simulator\")\n",
    "transpiled_circuit = transpile(qc, qasm_simulator)\n",
    "qobj = assemble(transpiled_circuit)\n",
    "result = qasm_simulator.run(qobj).result()\n",
    "counts = result.get_counts()\n",
    "plot_histogram(counts)"
   ]
  }
 ],
 "metadata": {
  "kernelspec": {
   "display_name": "Python 3",
   "language": "python",
   "name": "python3"
  },
  "language_info": {
   "codemirror_mode": {
    "name": "ipython",
    "version": 3
   },
   "file_extension": ".py",
   "mimetype": "text/x-python",
   "name": "python",
   "nbconvert_exporter": "python",
   "pygments_lexer": "ipython3",
   "version": "3.11.0"
  }
 },
 "nbformat": 4,
 "nbformat_minor": 2
}
