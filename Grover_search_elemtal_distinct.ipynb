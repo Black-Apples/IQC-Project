{
 "cells": [
  {
   "cell_type": "code",
   "execution_count": 529,
   "metadata": {},
   "outputs": [],
   "source": [
    "from qiskit import QuantumCircuit, Aer, transpile, assemble\n",
    "from qiskit.visualization import plot_histogram\n",
    "from qiskit.circuit.library import GroverOperator\n",
    "from qiskit.algorithms import Grover, AmplificationProblem\n",
    "from qiskit.circuit.library import PhaseOracle\n",
    "import numpy as np\n",
    "import math"
   ]
  },
  {
   "cell_type": "code",
   "execution_count": 530,
   "metadata": {},
   "outputs": [],
   "source": [
    "ELEMENT_SIZE=10\n",
    "ARRAY_SIZE=10"
   ]
  },
  {
   "cell_type": "code",
   "execution_count": 531,
   "metadata": {},
   "outputs": [],
   "source": [
    "\n",
    "array=np.random.randint(ELEMENT_SIZE, size=ARRAY_SIZE)\n",
    "# array=[1,2,3,4,3,5,7]"
   ]
  },
  {
   "cell_type": "code",
   "execution_count": 532,
   "metadata": {},
   "outputs": [
    {
     "data": {
      "text/plain": [
       "array([3, 7, 2, 2, 1, 4, 3, 1, 7, 2])"
      ]
     },
     "execution_count": 532,
     "metadata": {},
     "output_type": "execute_result"
    }
   ],
   "source": [
    "# shuffle the array \n",
    "# np.random.shuffle(array)\n",
    "# array = np.array([5, 7, 2, 2, 1, 3, 9, 9, 0, 7])\n",
    "array"
   ]
  },
  {
   "cell_type": "code",
   "execution_count": 533,
   "metadata": {},
   "outputs": [
    {
     "data": {
      "text/plain": [
       "array([3, 7, 2, 2])"
      ]
     },
     "execution_count": 533,
     "metadata": {},
     "output_type": "execute_result"
    }
   ],
   "source": [
    "RootN=math.ceil(np.sqrt(ARRAY_SIZE))\n",
    "# choose first rootN elements\n",
    "marked = array[:int(RootN)]\n",
    "marked"
   ]
  },
  {
   "cell_type": "code",
   "execution_count": 534,
   "metadata": {},
   "outputs": [
    {
     "name": "stdout",
     "output_type": "stream",
     "text": [
      "Error: Marked elements are not unique, found duplicates\n"
     ]
    }
   ],
   "source": [
    "if(len(set(marked))!=len(marked)):\n",
    "    print(\"Error: Marked elements are not unique, found duplicates\")"
   ]
  },
  {
   "cell_type": "code",
   "execution_count": 535,
   "metadata": {},
   "outputs": [
    {
     "data": {
      "text/plain": [
       "array([1, 4, 3, 1, 7, 2])"
      ]
     },
     "execution_count": 535,
     "metadata": {},
     "output_type": "execute_result"
    }
   ],
   "source": [
    "remaining = array[int(RootN):]\n",
    "remaining\n",
    "\n"
   ]
  },
  {
   "cell_type": "code",
   "execution_count": 536,
   "metadata": {},
   "outputs": [
    {
     "name": "stdout",
     "output_type": "stream",
     "text": [
      "3 4 4 7\n"
     ]
    }
   ],
   "source": [
    "# remaining=[1,2,3,4]\n",
    "# solution_idx=[2]\n",
    "T=len(remaining)\n",
    "# log of T\n",
    "idx_qubits=math.ceil(np.log2(T))\n",
    "element_qubits=math.ceil(np.log2(ELEMENT_SIZE))\n",
    "oracle_qubits=element_qubits\n",
    "qubits=idx_qubits+oracle_qubits\n",
    "print(idx_qubits,element_qubits,oracle_qubits,qubits)\n"
   ]
  },
  {
   "cell_type": "code",
   "execution_count": 537,
   "metadata": {},
   "outputs": [],
   "source": [
    "def grover_iterator(oracle_circuit,idx_qubits,qubits):\n",
    "    qc=QuantumCircuit(qubits)\n",
    "    qc.append(oracle_circuit,range(qubits))\n",
    "    # qc.barrier()\n",
    "    qc.h(range(idx_qubits))\n",
    "    qc.h(qubits-1)\n",
    "    qc.x(range(idx_qubits))\n",
    "    qc.x(qubits-1)\n",
    "    qc.barrier()\n",
    "    qc.h(qubits-1)\n",
    "    qc.mcx(list(range(idx_qubits)),qubits-1)\n",
    "    qc.h(qubits-1)\n",
    "    qc.barrier()\n",
    "    qc.x(qubits-1)\n",
    "    qc.x(range(idx_qubits))\n",
    "    qc.h(qubits-1)\n",
    "    qc.h(range(idx_qubits))\n",
    "    qc.barrier()\n",
    "    return qc\n",
    "\n"
   ]
  },
  {
   "cell_type": "code",
   "execution_count": 538,
   "metadata": {},
   "outputs": [],
   "source": [
    "def A(idx_qubits,qubits):\n",
    "    qc = QuantumCircuit(qubits)\n",
    "    for qubit in range(idx_qubits):\n",
    "        qc.h(qubit)\n",
    "    qc.h(qubits-1)\n",
    "    qc.barrier()\n",
    "    return qc"
   ]
  },
  {
   "cell_type": "code",
   "execution_count": 539,
   "metadata": {},
   "outputs": [
    {
     "name": "stdout",
     "output_type": "stream",
     "text": [
      "[1 4 3 1 7 2]\n",
      "Array Oracle circuit:\n",
      "      ░ ┌───┐     ┌───┐ ░                 ░ ┌───┐          ┌───┐ ░           »\n",
      "q_0: ─░─┤ X ├──■──┤ X ├─░────────■────────░─┤ X ├──■────■──┤ X ├─░────────■──»\n",
      "      ░ ├───┤  │  ├───┤ ░ ┌───┐  │  ┌───┐ ░ └───┘  │    │  └───┘ ░        │  »\n",
      "q_1: ─░─┤ X ├──■──┤ X ├─░─┤ X ├──■──┤ X ├─░────────■────■────────░────────■──»\n",
      "      ░ ├───┤  │  ├───┤ ░ ├───┤  │  ├───┤ ░ ┌───┐  │    │  ┌───┐ ░ ┌───┐  │  »\n",
      "q_2: ─░─┤ X ├──■──┤ X ├─░─┤ X ├──■──┤ X ├─░─┤ X ├──■────■──┤ X ├─░─┤ X ├──■──»\n",
      "      ░ └───┘┌─┴─┐└───┘ ░ └───┘  │  └───┘ ░ └───┘┌─┴─┐  │  └───┘ ░ └───┘┌─┴─┐»\n",
      "q_3: ─░──────┤ X ├──────░────────┼────────░──────┤ X ├──┼────────░──────┤ X ├»\n",
      "      ░      └───┘      ░        │        ░      └───┘┌─┴─┐      ░      └───┘»\n",
      "q_4: ─░─────────────────░────────┼────────░───────────┤ X ├──────░───────────»\n",
      "      ░                 ░      ┌─┴─┐      ░           └───┘      ░           »\n",
      "q_5: ─░─────────────────░──────┤ X ├──────░──────────────────────░───────────»\n",
      "      ░                 ░      └───┘      ░                      ░           »\n",
      "q_6: ─░─────────────────░─────────────────░──────────────────────░───────────»\n",
      "      ░                 ░                 ░                      ░           »\n",
      "«           ░ ┌───┐               ┌───┐ ░                 ░ ┌───┐┌───┐ ░  ░  ░ \n",
      "«q_0: ──────░─┤ X ├──■────■────■──┤ X ├─░────────■────────░─┤ X ├┤ X ├─░──░──░─\n",
      "«           ░ ├───┤  │    │    │  ├───┤ ░ ┌───┐  │  ┌───┐ ░ └───┘└───┘ ░  ░  ░ \n",
      "«q_1: ──────░─┤ X ├──■────■────■──┤ X ├─░─┤ X ├──■──┤ X ├─░────────────░──░──░─\n",
      "«     ┌───┐ ░ └───┘  │    │    │  └───┘ ░ └───┘  │  └───┘ ░            ░  ░  ░ \n",
      "«q_2: ┤ X ├─░────────■────■────■────────░────────■────────░────────────░──░──░─\n",
      "«     └───┘ ░      ┌─┴─┐  │    │        ░        │        ░            ░  ░  ░ \n",
      "«q_3: ──────░──────┤ X ├──┼────┼────────░────────┼────────░────────────░──░──░─\n",
      "«           ░      └───┘┌─┴─┐  │        ░      ┌─┴─┐      ░            ░  ░  ░ \n",
      "«q_4: ──────░───────────┤ X ├──┼────────░──────┤ X ├──────░────────────░──░──░─\n",
      "«           ░           └───┘┌─┴─┐      ░      └───┘      ░            ░  ░  ░ \n",
      "«q_5: ──────░────────────────┤ X ├──────░─────────────────░────────────░──░──░─\n",
      "«           ░                └───┘      ░                 ░            ░  ░  ░ \n",
      "«q_6: ──────░───────────────────────────░─────────────────░────────────░──░──░─\n",
      "«           ░                           ░                 ░            ░  ░  ░ \n"
     ]
    }
   ],
   "source": [
    "def Array_oracle(idx_qubits,oracle_qubits,Array):\n",
    "    oracle = QuantumCircuit(idx_qubits+oracle_qubits)\n",
    "    array_len = len(Array)\n",
    "    idx=[i for i in range(2**idx_qubits)]\n",
    "    oracle.barrier()\n",
    "    for element in idx:\n",
    "        # Convert idx to binary representation\n",
    "        binary_rep_idx = bin(element)[2:].zfill(idx_qubits)\n",
    "        # print(binary_rep_idx)\n",
    "\n",
    "        # reverse the binary representation\n",
    "        binary_rep_idx = binary_rep_idx[::-1]\n",
    "\n",
    "        # Apply X gates on qubits where binary_rep is '1'\n",
    "        for i, bit in enumerate(binary_rep_idx):\n",
    "            if bit == '0':\n",
    "                oracle.x(i)\n",
    "\n",
    "        # Apply multi-controlled X gate to create elements of array\n",
    "        if(element>=array_len):\n",
    "            number=0\n",
    "        else:\n",
    "            number=Array[element]\n",
    "        binary_rep_number = bin(number)[2:].zfill(oracle_qubits)\n",
    "        binary_rep_number = binary_rep_number[::-1]\n",
    "        # print(binary_rep_number,number,binary_rep_idx,element)\n",
    "        # print(binary_rep_number)\n",
    "        for i, bit in enumerate(binary_rep_number):\n",
    "            if bit == '1':\n",
    "                oracle.mcx(list(range(0,idx_qubits)), idx_qubits+i)\n",
    "        # oracle.mcx(list(range(0,idx_qubits)), idx_qubits+1)\n",
    "\n",
    "\n",
    "        # Unapply X gates\n",
    "        for i, bit in enumerate(binary_rep_idx):\n",
    "            if bit == '0':\n",
    "                oracle.x(i)\n",
    "        \n",
    "        oracle.barrier()\n",
    "\n",
    "    oracle.barrier()\n",
    "    print(\"Array Oracle circuit:\")\n",
    "    print(oracle)\n",
    "    return oracle\n",
    "\n",
    "\n",
    "\n",
    "# print(\"idx_qubits\",idx_qubits)\n",
    "print(remaining)\n",
    "array_circuit=Array_oracle(idx_qubits,oracle_qubits,remaining)\n"
   ]
  },
  {
   "cell_type": "code",
   "execution_count": 540,
   "metadata": {},
   "outputs": [
    {
     "name": "stdout",
     "output_type": "stream",
     "text": [
      "[3 7 2 2]\n",
      "Compasion Oracle circuit:\n",
      "      ░                 ░                 ░                 ░                »\n",
      "q_0: ─░─────────────────░─────────────────░─────────────────░────────────────»\n",
      "      ░                 ░                 ░                 ░                »\n",
      "q_1: ─░─────────────────░─────────────────░─────────────────░────────────────»\n",
      "      ░                 ░                 ░                 ░                »\n",
      "q_2: ─░─────────────────░─────────────────░─────────────────░────────────────»\n",
      "      ░                 ░                 ░ ┌───┐     ┌───┐ ░ ┌───┐     ┌───┐»\n",
      "q_3: ─░────────■────────░────────■────────░─┤ X ├──■──┤ X ├─░─┤ X ├──■──┤ X ├»\n",
      "      ░        │        ░        │        ░ └───┘  │  └───┘ ░ └───┘  │  └───┘»\n",
      "q_4: ─░────────■────────░────────■────────░────────■────────░────────■───────»\n",
      "      ░ ┌───┐  │  ┌───┐ ░        │        ░ ┌───┐  │  ┌───┐ ░ ┌───┐  │  ┌───┐»\n",
      "q_5: ─░─┤ X ├──■──┤ X ├─░────────■────────░─┤ X ├──■──┤ X ├─░─┤ X ├──■──┤ X ├»\n",
      "      ░ ├───┤┌─┴─┐├───┤ ░ ┌───┐┌─┴─┐┌───┐ ░ ├───┤┌─┴─┐├───┤ ░ ├───┤┌─┴─┐├───┤»\n",
      "q_6: ─░─┤ H ├┤ X ├┤ H ├─░─┤ H ├┤ X ├┤ H ├─░─┤ H ├┤ X ├┤ H ├─░─┤ H ├┤ X ├┤ H ├»\n",
      "      ░ └───┘└───┘└───┘ ░ └───┘└───┘└───┘ ░ └───┘└───┘└───┘ ░ └───┘└───┘└───┘»\n",
      "«      ░  ░ \n",
      "«q_0: ─░──░─\n",
      "«      ░  ░ \n",
      "«q_1: ─░──░─\n",
      "«      ░  ░ \n",
      "«q_2: ─░──░─\n",
      "«      ░  ░ \n",
      "«q_3: ─░──░─\n",
      "«      ░  ░ \n",
      "«q_4: ─░──░─\n",
      "«      ░  ░ \n",
      "«q_5: ─░──░─\n",
      "«      ░  ░ \n",
      "«q_6: ─░──░─\n",
      "«      ░  ░ \n"
     ]
    }
   ],
   "source": [
    "# Create oracle for the Grover's algorithm\n",
    "def comparision_oracle(idx_qubits, oracale_qubits,marked_elements):\n",
    "    oracle = QuantumCircuit(idx_qubits+oracale_qubits)\n",
    "\n",
    "    oracle.barrier()\n",
    "    for element in marked_elements:\n",
    "        # Convert idx to binary representation\n",
    "        binary_rep = bin(element)[2:].zfill(oracale_qubits-1)\n",
    "        \n",
    "        # print(binary_rep)\n",
    "        # reverse the binary representation\n",
    "        binary_rep = binary_rep[::-1]\n",
    "        # Apply X gates on qubits where binary_rep is '1'\n",
    "        for i, bit in enumerate(binary_rep):\n",
    "            if bit == '0':\n",
    "                oracle.x(i+idx_qubits)\n",
    "\n",
    "        # Apply multi-controlled X gate\n",
    "        oracle.h(oracale_qubits-1+idx_qubits)\n",
    "        oracle.mcx(list(range(0+idx_qubits,oracale_qubits-1+idx_qubits)), oracale_qubits-1+idx_qubits)\n",
    "        oracle.h(oracale_qubits-1+idx_qubits)\n",
    "        # Unapply X gates\n",
    "        for i, bit in enumerate(binary_rep):\n",
    "            if bit == '0':\n",
    "                oracle.x(i+idx_qubits)\n",
    "        \n",
    "        oracle.barrier()\n",
    "\n",
    "    oracle.barrier()\n",
    "    print(\"Compasion Oracle circuit:\")\n",
    "    print(oracle)\n",
    "    return oracle\n",
    "\n",
    "print(marked)\n",
    "comparision_oracle_circuit = comparision_oracle(idx_qubits,oracle_qubits,marked_elements=marked)\n"
   ]
  },
  {
   "cell_type": "code",
   "execution_count": 541,
   "metadata": {},
   "outputs": [
    {
     "data": {
      "text/html": [
       "<pre style=\"word-wrap: normal;white-space: pre;background: #fff0;line-height: 1.1;font-family: &quot;Courier New&quot;,Courier,monospace\">      ░ ┌───┐     ┌───┐ ░                 ░ ┌───┐          ┌───┐ ░           »\n",
       "q_0: ─░─┤ X ├──■──┤ X ├─░────────■────────░─┤ X ├──■────■──┤ X ├─░────────■──»\n",
       "      ░ ├───┤  │  ├───┤ ░ ┌───┐  │  ┌───┐ ░ └───┘  │    │  └───┘ ░        │  »\n",
       "q_1: ─░─┤ X ├──■──┤ X ├─░─┤ X ├──■──┤ X ├─░────────■────■────────░────────■──»\n",
       "      ░ ├───┤  │  ├───┤ ░ ├───┤  │  ├───┤ ░ ┌───┐  │    │  ┌───┐ ░ ┌───┐  │  »\n",
       "q_2: ─░─┤ X ├──■──┤ X ├─░─┤ X ├──■──┤ X ├─░─┤ X ├──■────■──┤ X ├─░─┤ X ├──■──»\n",
       "      ░ └───┘┌─┴─┐└───┘ ░ └───┘  │  └───┘ ░ └───┘┌─┴─┐  │  └───┘ ░ └───┘┌─┴─┐»\n",
       "q_3: ─░──────┤ X ├──────░────────┼────────░──────┤ X ├──┼────────░──────┤ X ├»\n",
       "      ░      └───┘      ░        │        ░      └───┘┌─┴─┐      ░      └───┘»\n",
       "q_4: ─░─────────────────░────────┼────────░───────────┤ X ├──────░───────────»\n",
       "      ░                 ░      ┌─┴─┐      ░           └───┘      ░           »\n",
       "q_5: ─░─────────────────░──────┤ X ├──────░──────────────────────░───────────»\n",
       "      ░                 ░      └───┘      ░                      ░           »\n",
       "q_6: ─░─────────────────░─────────────────░──────────────────────░───────────»\n",
       "      ░                 ░                 ░                      ░           »\n",
       "«           ░ ┌───┐               ┌───┐ ░                 ░ ┌───┐┌───┐ ░  ░  ░ »\n",
       "«q_0: ──────░─┤ X ├──■────■────■──┤ X ├─░────────■────────░─┤ X ├┤ X ├─░──░──░─»\n",
       "«           ░ ├───┤  │    │    │  ├───┤ ░ ┌───┐  │  ┌───┐ ░ └───┘└───┘ ░  ░  ░ »\n",
       "«q_1: ──────░─┤ X ├──■────■────■──┤ X ├─░─┤ X ├──■──┤ X ├─░────────────░──░──░─»\n",
       "«     ┌───┐ ░ └───┘  │    │    │  └───┘ ░ └───┘  │  └───┘ ░            ░  ░  ░ »\n",
       "«q_2: ┤ X ├─░────────■────■────■────────░────────■────────░────────────░──░──░─»\n",
       "«     └───┘ ░      ┌─┴─┐  │    │        ░        │        ░            ░  ░  ░ »\n",
       "«q_3: ──────░──────┤ X ├──┼────┼────────░────────┼────────░────────────░──░──░─»\n",
       "«           ░      └───┘┌─┴─┐  │        ░      ┌─┴─┐      ░            ░  ░  ░ »\n",
       "«q_4: ──────░───────────┤ X ├──┼────────░──────┤ X ├──────░────────────░──░──░─»\n",
       "«           ░           └───┘┌─┴─┐      ░      └───┘      ░            ░  ░  ░ »\n",
       "«q_5: ──────░────────────────┤ X ├──────░─────────────────░────────────░──░──░─»\n",
       "«           ░                └───┘      ░                 ░            ░  ░  ░ »\n",
       "«q_6: ──────░───────────────────────────░─────────────────░────────────░──░──░─»\n",
       "«           ░                           ░                 ░            ░  ░  ░ »\n",
       "«      ░                 ░                 ░                 ░                »\n",
       "«q_0: ─░─────────────────░─────────────────░─────────────────░────────────────»\n",
       "«      ░                 ░                 ░                 ░                »\n",
       "«q_1: ─░─────────────────░─────────────────░─────────────────░────────────────»\n",
       "«      ░                 ░                 ░                 ░                »\n",
       "«q_2: ─░─────────────────░─────────────────░─────────────────░────────────────»\n",
       "«      ░                 ░                 ░ ┌───┐     ┌───┐ ░ ┌───┐     ┌───┐»\n",
       "«q_3: ─░────────■────────░────────■────────░─┤ X ├──■──┤ X ├─░─┤ X ├──■──┤ X ├»\n",
       "«      ░        │        ░        │        ░ └───┘  │  └───┘ ░ └───┘  │  └───┘»\n",
       "«q_4: ─░────────■────────░────────■────────░────────■────────░────────■───────»\n",
       "«      ░ ┌───┐  │  ┌───┐ ░        │        ░ ┌───┐  │  ┌───┐ ░ ┌───┐  │  ┌───┐»\n",
       "«q_5: ─░─┤ X ├──■──┤ X ├─░────────■────────░─┤ X ├──■──┤ X ├─░─┤ X ├──■──┤ X ├»\n",
       "«      ░ ├───┤┌─┴─┐├───┤ ░ ┌───┐┌─┴─┐┌───┐ ░ ├───┤┌─┴─┐├───┤ ░ ├───┤┌─┴─┐├───┤»\n",
       "«q_6: ─░─┤ H ├┤ X ├┤ H ├─░─┤ H ├┤ X ├┤ H ├─░─┤ H ├┤ X ├┤ H ├─░─┤ H ├┤ X ├┤ H ├»\n",
       "«      ░ └───┘└───┘└───┘ ░ └───┘└───┘└───┘ ░ └───┘└───┘└───┘ ░ └───┘└───┘└───┘»\n",
       "«      ░  ░  ░ ┌───┐     ┌───┐ ░                 ░ ┌───┐          ┌───┐ ░      »\n",
       "«q_0: ─░──░──░─┤ X ├──■──┤ X ├─░────────■────────░─┤ X ├──■────■──┤ X ├─░──────»\n",
       "«      ░  ░  ░ ├───┤  │  ├───┤ ░ ┌───┐  │  ┌───┐ ░ └───┘  │    │  └───┘ ░      »\n",
       "«q_1: ─░──░──░─┤ X ├──■──┤ X ├─░─┤ X ├──■──┤ X ├─░────────■────■────────░──────»\n",
       "«      ░  ░  ░ ├───┤  │  ├───┤ ░ ├───┤  │  ├───┤ ░ ┌───┐  │    │  ┌───┐ ░ ┌───┐»\n",
       "«q_2: ─░──░──░─┤ X ├──■──┤ X ├─░─┤ X ├──■──┤ X ├─░─┤ X ├──■────■──┤ X ├─░─┤ X ├»\n",
       "«      ░  ░  ░ └───┘┌─┴─┐└───┘ ░ └───┘  │  └───┘ ░ └───┘┌─┴─┐  │  └───┘ ░ └───┘»\n",
       "«q_3: ─░──░──░──────┤ X ├──────░────────┼────────░──────┤ X ├──┼────────░──────»\n",
       "«      ░  ░  ░      └───┘      ░        │        ░      └───┘┌─┴─┐      ░      »\n",
       "«q_4: ─░──░──░─────────────────░────────┼────────░───────────┤ X ├──────░──────»\n",
       "«      ░  ░  ░                 ░      ┌─┴─┐      ░           └───┘      ░      »\n",
       "«q_5: ─░──░──░─────────────────░──────┤ X ├──────░──────────────────────░──────»\n",
       "«      ░  ░  ░                 ░      └───┘      ░                      ░      »\n",
       "«q_6: ─░──░──░─────────────────░─────────────────░──────────────────────░──────»\n",
       "«      ░  ░  ░                 ░                 ░                      ░      »\n",
       "«                ░ ┌───┐               ┌───┐ ░                 ░ ┌───┐┌───┐ ░ »\n",
       "«q_0: ──■────────░─┤ X ├──■────■────■──┤ X ├─░────────■────────░─┤ X ├┤ X ├─░─»\n",
       "«       │        ░ ├───┤  │    │    │  ├───┤ ░ ┌───┐  │  ┌───┐ ░ └───┘└───┘ ░ »\n",
       "«q_1: ──■────────░─┤ X ├──■────■────■──┤ X ├─░─┤ X ├──■──┤ X ├─░────────────░─»\n",
       "«       │  ┌───┐ ░ └───┘  │    │    │  └───┘ ░ └───┘  │  └───┘ ░            ░ »\n",
       "«q_2: ──■──┤ X ├─░────────■────■────■────────░────────■────────░────────────░─»\n",
       "«     ┌─┴─┐└───┘ ░      ┌─┴─┐  │    │        ░        │        ░            ░ »\n",
       "«q_3: ┤ X ├──────░──────┤ X ├──┼────┼────────░────────┼────────░────────────░─»\n",
       "«     └───┘      ░      └───┘┌─┴─┐  │        ░      ┌─┴─┐      ░            ░ »\n",
       "«q_4: ───────────░───────────┤ X ├──┼────────░──────┤ X ├──────░────────────░─»\n",
       "«                ░           └───┘┌─┴─┐      ░      └───┘      ░            ░ »\n",
       "«q_5: ───────────░────────────────┤ X ├──────░─────────────────░────────────░─»\n",
       "«                ░                └───┘      ░                 ░            ░ »\n",
       "«q_6: ───────────░───────────────────────────░─────────────────░────────────░─»\n",
       "«                ░                           ░                 ░            ░ »\n",
       "«      ░  ░ \n",
       "«q_0: ─░──░─\n",
       "«      ░  ░ \n",
       "«q_1: ─░──░─\n",
       "«      ░  ░ \n",
       "«q_2: ─░──░─\n",
       "«      ░  ░ \n",
       "«q_3: ─░──░─\n",
       "«      ░  ░ \n",
       "«q_4: ─░──░─\n",
       "«      ░  ░ \n",
       "«q_5: ─░──░─\n",
       "«      ░  ░ \n",
       "«q_6: ─░──░─\n",
       "«      ░  ░ </pre>"
      ],
      "text/plain": [
       "      ░ ┌───┐     ┌───┐ ░                 ░ ┌───┐          ┌───┐ ░           »\n",
       "q_0: ─░─┤ X ├──■──┤ X ├─░────────■────────░─┤ X ├──■────■──┤ X ├─░────────■──»\n",
       "      ░ ├───┤  │  ├───┤ ░ ┌───┐  │  ┌───┐ ░ └───┘  │    │  └───┘ ░        │  »\n",
       "q_1: ─░─┤ X ├──■──┤ X ├─░─┤ X ├──■──┤ X ├─░────────■────■────────░────────■──»\n",
       "      ░ ├───┤  │  ├───┤ ░ ├───┤  │  ├───┤ ░ ┌───┐  │    │  ┌───┐ ░ ┌───┐  │  »\n",
       "q_2: ─░─┤ X ├──■──┤ X ├─░─┤ X ├──■──┤ X ├─░─┤ X ├──■────■──┤ X ├─░─┤ X ├──■──»\n",
       "      ░ └───┘┌─┴─┐└───┘ ░ └───┘  │  └───┘ ░ └───┘┌─┴─┐  │  └───┘ ░ └───┘┌─┴─┐»\n",
       "q_3: ─░──────┤ X ├──────░────────┼────────░──────┤ X ├──┼────────░──────┤ X ├»\n",
       "      ░      └───┘      ░        │        ░      └───┘┌─┴─┐      ░      └───┘»\n",
       "q_4: ─░─────────────────░────────┼────────░───────────┤ X ├──────░───────────»\n",
       "      ░                 ░      ┌─┴─┐      ░           └───┘      ░           »\n",
       "q_5: ─░─────────────────░──────┤ X ├──────░──────────────────────░───────────»\n",
       "      ░                 ░      └───┘      ░                      ░           »\n",
       "q_6: ─░─────────────────░─────────────────░──────────────────────░───────────»\n",
       "      ░                 ░                 ░                      ░           »\n",
       "«           ░ ┌───┐               ┌───┐ ░                 ░ ┌───┐┌───┐ ░  ░  ░ »\n",
       "«q_0: ──────░─┤ X ├──■────■────■──┤ X ├─░────────■────────░─┤ X ├┤ X ├─░──░──░─»\n",
       "«           ░ ├───┤  │    │    │  ├───┤ ░ ┌───┐  │  ┌───┐ ░ └───┘└───┘ ░  ░  ░ »\n",
       "«q_1: ──────░─┤ X ├──■────■────■──┤ X ├─░─┤ X ├──■──┤ X ├─░────────────░──░──░─»\n",
       "«     ┌───┐ ░ └───┘  │    │    │  └───┘ ░ └───┘  │  └───┘ ░            ░  ░  ░ »\n",
       "«q_2: ┤ X ├─░────────■────■────■────────░────────■────────░────────────░──░──░─»\n",
       "«     └───┘ ░      ┌─┴─┐  │    │        ░        │        ░            ░  ░  ░ »\n",
       "«q_3: ──────░──────┤ X ├──┼────┼────────░────────┼────────░────────────░──░──░─»\n",
       "«           ░      └───┘┌─┴─┐  │        ░      ┌─┴─┐      ░            ░  ░  ░ »\n",
       "«q_4: ──────░───────────┤ X ├──┼────────░──────┤ X ├──────░────────────░──░──░─»\n",
       "«           ░           └───┘┌─┴─┐      ░      └───┘      ░            ░  ░  ░ »\n",
       "«q_5: ──────░────────────────┤ X ├──────░─────────────────░────────────░──░──░─»\n",
       "«           ░                └───┘      ░                 ░            ░  ░  ░ »\n",
       "«q_6: ──────░───────────────────────────░─────────────────░────────────░──░──░─»\n",
       "«           ░                           ░                 ░            ░  ░  ░ »\n",
       "«      ░                 ░                 ░                 ░                »\n",
       "«q_0: ─░─────────────────░─────────────────░─────────────────░────────────────»\n",
       "«      ░                 ░                 ░                 ░                »\n",
       "«q_1: ─░─────────────────░─────────────────░─────────────────░────────────────»\n",
       "«      ░                 ░                 ░                 ░                »\n",
       "«q_2: ─░─────────────────░─────────────────░─────────────────░────────────────»\n",
       "«      ░                 ░                 ░ ┌───┐     ┌───┐ ░ ┌───┐     ┌───┐»\n",
       "«q_3: ─░────────■────────░────────■────────░─┤ X ├──■──┤ X ├─░─┤ X ├──■──┤ X ├»\n",
       "«      ░        │        ░        │        ░ └───┘  │  └───┘ ░ └───┘  │  └───┘»\n",
       "«q_4: ─░────────■────────░────────■────────░────────■────────░────────■───────»\n",
       "«      ░ ┌───┐  │  ┌───┐ ░        │        ░ ┌───┐  │  ┌───┐ ░ ┌───┐  │  ┌───┐»\n",
       "«q_5: ─░─┤ X ├──■──┤ X ├─░────────■────────░─┤ X ├──■──┤ X ├─░─┤ X ├──■──┤ X ├»\n",
       "«      ░ ├───┤┌─┴─┐├───┤ ░ ┌───┐┌─┴─┐┌───┐ ░ ├───┤┌─┴─┐├───┤ ░ ├───┤┌─┴─┐├───┤»\n",
       "«q_6: ─░─┤ H ├┤ X ├┤ H ├─░─┤ H ├┤ X ├┤ H ├─░─┤ H ├┤ X ├┤ H ├─░─┤ H ├┤ X ├┤ H ├»\n",
       "«      ░ └───┘└───┘└───┘ ░ └───┘└───┘└───┘ ░ └───┘└───┘└───┘ ░ └───┘└───┘└───┘»\n",
       "«      ░  ░  ░ ┌───┐     ┌───┐ ░                 ░ ┌───┐          ┌───┐ ░      »\n",
       "«q_0: ─░──░──░─┤ X ├──■──┤ X ├─░────────■────────░─┤ X ├──■────■──┤ X ├─░──────»\n",
       "«      ░  ░  ░ ├───┤  │  ├───┤ ░ ┌───┐  │  ┌───┐ ░ └───┘  │    │  └───┘ ░      »\n",
       "«q_1: ─░──░──░─┤ X ├──■──┤ X ├─░─┤ X ├──■──┤ X ├─░────────■────■────────░──────»\n",
       "«      ░  ░  ░ ├───┤  │  ├───┤ ░ ├───┤  │  ├───┤ ░ ┌───┐  │    │  ┌───┐ ░ ┌───┐»\n",
       "«q_2: ─░──░──░─┤ X ├──■──┤ X ├─░─┤ X ├──■──┤ X ├─░─┤ X ├──■────■──┤ X ├─░─┤ X ├»\n",
       "«      ░  ░  ░ └───┘┌─┴─┐└───┘ ░ └───┘  │  └───┘ ░ └───┘┌─┴─┐  │  └───┘ ░ └───┘»\n",
       "«q_3: ─░──░──░──────┤ X ├──────░────────┼────────░──────┤ X ├──┼────────░──────»\n",
       "«      ░  ░  ░      └───┘      ░        │        ░      └───┘┌─┴─┐      ░      »\n",
       "«q_4: ─░──░──░─────────────────░────────┼────────░───────────┤ X ├──────░──────»\n",
       "«      ░  ░  ░                 ░      ┌─┴─┐      ░           └───┘      ░      »\n",
       "«q_5: ─░──░──░─────────────────░──────┤ X ├──────░──────────────────────░──────»\n",
       "«      ░  ░  ░                 ░      └───┘      ░                      ░      »\n",
       "«q_6: ─░──░──░─────────────────░─────────────────░──────────────────────░──────»\n",
       "«      ░  ░  ░                 ░                 ░                      ░      »\n",
       "«                ░ ┌───┐               ┌───┐ ░                 ░ ┌───┐┌───┐ ░ »\n",
       "«q_0: ──■────────░─┤ X ├──■────■────■──┤ X ├─░────────■────────░─┤ X ├┤ X ├─░─»\n",
       "«       │        ░ ├───┤  │    │    │  ├───┤ ░ ┌───┐  │  ┌───┐ ░ └───┘└───┘ ░ »\n",
       "«q_1: ──■────────░─┤ X ├──■────■────■──┤ X ├─░─┤ X ├──■──┤ X ├─░────────────░─»\n",
       "«       │  ┌───┐ ░ └───┘  │    │    │  └───┘ ░ └───┘  │  └───┘ ░            ░ »\n",
       "«q_2: ──■──┤ X ├─░────────■────■────■────────░────────■────────░────────────░─»\n",
       "«     ┌─┴─┐└───┘ ░      ┌─┴─┐  │    │        ░        │        ░            ░ »\n",
       "«q_3: ┤ X ├──────░──────┤ X ├──┼────┼────────░────────┼────────░────────────░─»\n",
       "«     └───┘      ░      └───┘┌─┴─┐  │        ░      ┌─┴─┐      ░            ░ »\n",
       "«q_4: ───────────░───────────┤ X ├──┼────────░──────┤ X ├──────░────────────░─»\n",
       "«                ░           └───┘┌─┴─┐      ░      └───┘      ░            ░ »\n",
       "«q_5: ───────────░────────────────┤ X ├──────░─────────────────░────────────░─»\n",
       "«                ░                └───┘      ░                 ░            ░ »\n",
       "«q_6: ───────────░───────────────────────────░─────────────────░────────────░─»\n",
       "«                ░                           ░                 ░            ░ »\n",
       "«      ░  ░ \n",
       "«q_0: ─░──░─\n",
       "«      ░  ░ \n",
       "«q_1: ─░──░─\n",
       "«      ░  ░ \n",
       "«q_2: ─░──░─\n",
       "«      ░  ░ \n",
       "«q_3: ─░──░─\n",
       "«      ░  ░ \n",
       "«q_4: ─░──░─\n",
       "«      ░  ░ \n",
       "«q_5: ─░──░─\n",
       "«      ░  ░ \n",
       "«q_6: ─░──░─\n",
       "«      ░  ░ "
      ]
     },
     "execution_count": 541,
     "metadata": {},
     "output_type": "execute_result"
    }
   ],
   "source": [
    "oracle_circuit=QuantumCircuit(qubits)\n",
    "oracle_circuit.append(array_circuit,range(qubits))    \n",
    "oracle_circuit.append(comparision_oracle_circuit,range(qubits))\n",
    "oracle_circuit.append(array_circuit,range(qubits))\n",
    "# oracle_circuit.extend(comparision_oracle_circuit)\n",
    "oracle_circuit.decompose().draw()"
   ]
  },
  {
   "cell_type": "code",
   "execution_count": 542,
   "metadata": {},
   "outputs": [],
   "source": [
    "grover=grover_iterator(oracle_circuit,idx_qubits,qubits)\n",
    "\n"
   ]
  },
  {
   "cell_type": "code",
   "execution_count": 543,
   "metadata": {},
   "outputs": [
    {
     "data": {
      "text/html": [
       "<pre style=\"word-wrap: normal;white-space: pre;background: #fff0;line-height: 1.1;font-family: &quot;Courier New&quot;,Courier,monospace\">     ┌──────────────┐┌───┐┌───┐ ░                 ░ ┌───┐┌───┐ ░ \n",
       "q_0: ┤0             ├┤ H ├┤ X ├─░────────■────────░─┤ X ├┤ H ├─░─\n",
       "     │              │├───┤├───┤ ░        │        ░ ├───┤├───┤ ░ \n",
       "q_1: ┤1             ├┤ H ├┤ X ├─░────────■────────░─┤ X ├┤ H ├─░─\n",
       "     │              │├───┤├───┤ ░        │        ░ ├───┤├───┤ ░ \n",
       "q_2: ┤2             ├┤ H ├┤ X ├─░────────■────────░─┤ X ├┤ H ├─░─\n",
       "     │              │└───┘└───┘ ░        │        ░ └───┘└───┘ ░ \n",
       "q_3: ┤3 circuit-909 ├───────────░────────┼────────░────────────░─\n",
       "     │              │           ░        │        ░            ░ \n",
       "q_4: ┤4             ├───────────░────────┼────────░────────────░─\n",
       "     │              │           ░        │        ░            ░ \n",
       "q_5: ┤5             ├───────────░────────┼────────░────────────░─\n",
       "     │              │┌───┐┌───┐ ░ ┌───┐┌─┴─┐┌───┐ ░ ┌───┐┌───┐ ░ \n",
       "q_6: ┤6             ├┤ H ├┤ X ├─░─┤ H ├┤ X ├┤ H ├─░─┤ X ├┤ H ├─░─\n",
       "     └──────────────┘└───┘└───┘ ░ └───┘└───┘└───┘ ░ └───┘└───┘ ░ </pre>"
      ],
      "text/plain": [
       "     ┌──────────────┐┌───┐┌───┐ ░                 ░ ┌───┐┌───┐ ░ \n",
       "q_0: ┤0             ├┤ H ├┤ X ├─░────────■────────░─┤ X ├┤ H ├─░─\n",
       "     │              │├───┤├───┤ ░        │        ░ ├───┤├───┤ ░ \n",
       "q_1: ┤1             ├┤ H ├┤ X ├─░────────■────────░─┤ X ├┤ H ├─░─\n",
       "     │              │├───┤├───┤ ░        │        ░ ├───┤├───┤ ░ \n",
       "q_2: ┤2             ├┤ H ├┤ X ├─░────────■────────░─┤ X ├┤ H ├─░─\n",
       "     │              │└───┘└───┘ ░        │        ░ └───┘└───┘ ░ \n",
       "q_3: ┤3 circuit-909 ├───────────░────────┼────────░────────────░─\n",
       "     │              │           ░        │        ░            ░ \n",
       "q_4: ┤4             ├───────────░────────┼────────░────────────░─\n",
       "     │              │           ░        │        ░            ░ \n",
       "q_5: ┤5             ├───────────░────────┼────────░────────────░─\n",
       "     │              │┌───┐┌───┐ ░ ┌───┐┌─┴─┐┌───┐ ░ ┌───┐┌───┐ ░ \n",
       "q_6: ┤6             ├┤ H ├┤ X ├─░─┤ H ├┤ X ├┤ H ├─░─┤ X ├┤ H ├─░─\n",
       "     └──────────────┘└───┘└───┘ ░ └───┘└───┘└───┘ ░ └───┘└───┘ ░ "
      ]
     },
     "execution_count": 543,
     "metadata": {},
     "output_type": "execute_result"
    }
   ],
   "source": [
    "grover.draw()"
   ]
  },
  {
   "cell_type": "code",
   "execution_count": 544,
   "metadata": {},
   "outputs": [
    {
     "data": {
      "text/plain": [
       "<qiskit.circuit.instructionset.InstructionSet at 0x2bb954c1660>"
      ]
     },
     "execution_count": 544,
     "metadata": {},
     "output_type": "execute_result"
    }
   ],
   "source": [
    "# T=logT\n",
    "circuit=QuantumCircuit(qubits, idx_qubits)\n",
    "A_circuit= A(idx_qubits,qubits)\n",
    "# print(circuit.draw())\n",
    "# print(A_circuit.draw())\n",
    "circuit.append(A_circuit, range(qubits))\n",
    "# circuit.append(oracle_circuit, range(qubits))\n",
    "# circuit.append(array_circuit, range(qubits))\n",
    "\n",
    "for i in range(1):\n",
    "    circuit.append(grover, range(qubits))\n",
    "\n",
    "# measurement\n",
    "circuit.measure(range(idx_qubits), range(idx_qubits))\n",
    "\n",
    "# circuit.h(qubits-1)\n",
    "# circuit.measure(range(qubits), range(qubits))\n"
   ]
  },
  {
   "cell_type": "code",
   "execution_count": 545,
   "metadata": {},
   "outputs": [
    {
     "data": {
      "text/html": [
       "<pre style=\"word-wrap: normal;white-space: pre;background: #fff0;line-height: 1.1;font-family: &quot;Courier New&quot;,Courier,monospace\">     ┌───┐ ░ ┌──────────────┐┌───┐┌───┐ ░                 ░ ┌───┐┌───┐ ░ ┌─┐   »\n",
       "q_0: ┤ H ├─░─┤0             ├┤ H ├┤ X ├─░────────■────────░─┤ X ├┤ H ├─░─┤M├───»\n",
       "     ├───┤ ░ │              │├───┤├───┤ ░        │        ░ ├───┤├───┤ ░ └╥┘┌─┐»\n",
       "q_1: ┤ H ├─░─┤1             ├┤ H ├┤ X ├─░────────■────────░─┤ X ├┤ H ├─░──╫─┤M├»\n",
       "     ├───┤ ░ │              │├───┤├───┤ ░        │        ░ ├───┤├───┤ ░  ║ └╥┘»\n",
       "q_2: ┤ H ├─░─┤2             ├┤ H ├┤ X ├─░────────■────────░─┤ X ├┤ H ├─░──╫──╫─»\n",
       "     └───┘ ░ │              │└───┘└───┘ ░        │        ░ └───┘└───┘ ░  ║  ║ »\n",
       "q_3: ──────░─┤3 circuit-909 ├───────────░────────┼────────░────────────░──╫──╫─»\n",
       "           ░ │              │           ░        │        ░            ░  ║  ║ »\n",
       "q_4: ──────░─┤4             ├───────────░────────┼────────░────────────░──╫──╫─»\n",
       "           ░ │              │           ░        │        ░            ░  ║  ║ »\n",
       "q_5: ──────░─┤5             ├───────────░────────┼────────░────────────░──╫──╫─»\n",
       "     ┌───┐ ░ │              │┌───┐┌───┐ ░ ┌───┐┌─┴─┐┌───┐ ░ ┌───┐┌───┐ ░  ║  ║ »\n",
       "q_6: ┤ H ├─░─┤6             ├┤ H ├┤ X ├─░─┤ H ├┤ X ├┤ H ├─░─┤ X ├┤ H ├─░──╫──╫─»\n",
       "     └───┘ ░ └──────────────┘└───┘└───┘ ░ └───┘└───┘└───┘ ░ └───┘└───┘ ░  ║  ║ »\n",
       "c: 3/═════════════════════════════════════════════════════════════════════╩══╩═»\n",
       "                                                                          0  1 »\n",
       "«        \n",
       "«q_0: ───\n",
       "«        \n",
       "«q_1: ───\n",
       "«     ┌─┐\n",
       "«q_2: ┤M├\n",
       "«     └╥┘\n",
       "«q_3: ─╫─\n",
       "«      ║ \n",
       "«q_4: ─╫─\n",
       "«      ║ \n",
       "«q_5: ─╫─\n",
       "«      ║ \n",
       "«q_6: ─╫─\n",
       "«      ║ \n",
       "«c: 3/═╩═\n",
       "«      2 </pre>"
      ],
      "text/plain": [
       "     ┌───┐ ░ ┌──────────────┐┌───┐┌───┐ ░                 ░ ┌───┐┌───┐ ░ ┌─┐   »\n",
       "q_0: ┤ H ├─░─┤0             ├┤ H ├┤ X ├─░────────■────────░─┤ X ├┤ H ├─░─┤M├───»\n",
       "     ├───┤ ░ │              │├───┤├───┤ ░        │        ░ ├───┤├───┤ ░ └╥┘┌─┐»\n",
       "q_1: ┤ H ├─░─┤1             ├┤ H ├┤ X ├─░────────■────────░─┤ X ├┤ H ├─░──╫─┤M├»\n",
       "     ├───┤ ░ │              │├───┤├───┤ ░        │        ░ ├───┤├───┤ ░  ║ └╥┘»\n",
       "q_2: ┤ H ├─░─┤2             ├┤ H ├┤ X ├─░────────■────────░─┤ X ├┤ H ├─░──╫──╫─»\n",
       "     └───┘ ░ │              │└───┘└───┘ ░        │        ░ └───┘└───┘ ░  ║  ║ »\n",
       "q_3: ──────░─┤3 circuit-909 ├───────────░────────┼────────░────────────░──╫──╫─»\n",
       "           ░ │              │           ░        │        ░            ░  ║  ║ »\n",
       "q_4: ──────░─┤4             ├───────────░────────┼────────░────────────░──╫──╫─»\n",
       "           ░ │              │           ░        │        ░            ░  ║  ║ »\n",
       "q_5: ──────░─┤5             ├───────────░────────┼────────░────────────░──╫──╫─»\n",
       "     ┌───┐ ░ │              │┌───┐┌───┐ ░ ┌───┐┌─┴─┐┌───┐ ░ ┌───┐┌───┐ ░  ║  ║ »\n",
       "q_6: ┤ H ├─░─┤6             ├┤ H ├┤ X ├─░─┤ H ├┤ X ├┤ H ├─░─┤ X ├┤ H ├─░──╫──╫─»\n",
       "     └───┘ ░ └──────────────┘└───┘└───┘ ░ └───┘└───┘└───┘ ░ └───┘└───┘ ░  ║  ║ »\n",
       "c: 3/═════════════════════════════════════════════════════════════════════╩══╩═»\n",
       "                                                                          0  1 »\n",
       "«        \n",
       "«q_0: ───\n",
       "«        \n",
       "«q_1: ───\n",
       "«     ┌─┐\n",
       "«q_2: ┤M├\n",
       "«     └╥┘\n",
       "«q_3: ─╫─\n",
       "«      ║ \n",
       "«q_4: ─╫─\n",
       "«      ║ \n",
       "«q_5: ─╫─\n",
       "«      ║ \n",
       "«q_6: ─╫─\n",
       "«      ║ \n",
       "«c: 3/═╩═\n",
       "«      2 "
      ]
     },
     "execution_count": 545,
     "metadata": {},
     "output_type": "execute_result"
    }
   ],
   "source": [
    "\n",
    "circuit.decompose().draw()\n"
   ]
  },
  {
   "cell_type": "code",
   "execution_count": 546,
   "metadata": {},
   "outputs": [
    {
     "data": {
      "text/plain": [
       "(array([1, 4, 3, 1, 7, 2]), array([3, 7, 2, 2]))"
      ]
     },
     "execution_count": 546,
     "metadata": {},
     "output_type": "execute_result"
    }
   ],
   "source": [
    "remaining,marked"
   ]
  },
  {
   "cell_type": "code",
   "execution_count": 547,
   "metadata": {},
   "outputs": [
    {
     "name": "stdout",
     "output_type": "stream",
     "text": [
      "{'010': 416, '011': 31, '100': 422, '111': 28, '000': 21, '101': 40, '110': 36, '001': 30}\n"
     ]
    },
    {
     "name": "stderr",
     "output_type": "stream",
     "text": [
      "C:\\Users\\acer\\AppData\\Local\\Temp\\ipykernel_23672\\2336900449.py:5: DeprecationWarning: Using a qobj for run() is deprecated as of qiskit-aer 0.9.0 and will be removed no sooner than 3 months from that release date. Transpiled circuits should now be passed directly using `backend.run(circuits, **run_options).\n",
      "  result = qasm_simulator.run(qobj).result()\n"
     ]
    },
    {
     "data": {
      "image/png": "[encoded data removed]",
      "text/plain": [
       "<Figure size 700x500 with 1 Axes>"
      ]
     },
     "execution_count": 547,
     "metadata": {},
     "output_type": "execute_result"
    }
   ],
   "source": [
    "\n",
    "# run the circuit\n",
    "qasm_simulator = Aer.get_backend(\"qasm_simulator\")\n",
    "transpiled_circuit = transpile(circuit, qasm_simulator)\n",
    "qobj = assemble(transpiled_circuit)\n",
    "result = qasm_simulator.run(qobj).result()\n",
    "counts = result.get_counts()\n",
    "print(counts)\n",
    "plot_histogram(counts)"
   ]
  }
 ],
 "metadata": {
  "kernelspec": {
   "display_name": "Python 3",
   "language": "python",
   "name": "python3"
  },
  "language_info": {
   "codemirror_mode": {
    "name": "ipython",
    "version": 3
   },
   "file_extension": ".py",
   "mimetype": "text/x-python",
   "name": "python",
   "nbconvert_exporter": "python",
   "pygments_lexer": "ipython3",
   "version": "3.11.0"
  }
 },
 "nbformat": 4,
 "nbformat_minor": 2
}
